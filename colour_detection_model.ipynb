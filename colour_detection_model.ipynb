{
 "cells": [
  {
   "cell_type": "code",
   "execution_count": 2,
   "metadata": {},
   "outputs": [],
   "source": [
    "import cv2,plotly,plotly.express as px,skimage\n",
    "from skimage import morphology\n",
    "\n",
    "vid=cv2.VideoCapture(0)\n",
    "\n",
    "while True:\n",
    "    flag, img = vid.read()\n",
    "    if flag:\n",
    "        gray_img=cv2.cvtColor(img,cv2.COLOR_BGR2GRAY)\n",
    "        blue_image=cv2.subtract(img[:,:,-3],gray_img)  #just change -3 to -2 for recognizing green colour\n",
    "\n",
    "        th,blue_binary=cv2.threshold(blue_image,55,255,cv2.THRESH_BINARY)\n",
    "\n",
    "        blue_binary2=skimage.morphology.remove_small_objects(\n",
    "                           blue_binary.astype(bool),150\n",
    "                    )\n",
    "        stel = cv2.getStructuringElement(cv2.MORPH_ELLIPSE,(10,10))\n",
    "        blue_binary3=skimage.morphology.remove_small_holes(\n",
    "                            blue_binary2,350\n",
    "                    )\n",
    "        blue_binary4=cv2.dilate(blue_binary3.astype('uint8'),stel,iterations=1)\n",
    "        labels=skimage.measure.label(blue_binary4)\n",
    "        rp=skimage.measure.regionprops(labels,blue_binary4)\n",
    "        \n",
    "        img_orig=img.copy()\n",
    "        if len(rp)>0:\n",
    "            (y1,x1,y2,x2)=rp[0].bbox\n",
    "            cv2.rectangle(img_orig, pt1=(x1,y1), pt2=(x2,y2), color=(255,255,0),thickness=10)\n",
    "\n",
    "        cv2.imshow('preiew',img_orig)\n",
    "        key=cv2.waitKey(1)\n",
    "        if key==ord('x'):\n",
    "            break\n",
    "\n",
    "cv2.destroyAllWindows()\n",
    "vid.release()"
   ]
  },
  {
   "cell_type": "code",
   "execution_count": null,
   "metadata": {},
   "outputs": [],
   "source": []
  },
  {
   "cell_type": "code",
   "execution_count": null,
   "metadata": {},
   "outputs": [],
   "source": []
  }
 ],
 "metadata": {
  "kernelspec": {
   "display_name": "base",
   "language": "python",
   "name": "python3"
  },
  "language_info": {
   "codemirror_mode": {
    "name": "ipython",
    "version": 3
   },
   "file_extension": ".py",
   "mimetype": "text/x-python",
   "name": "python",
   "nbconvert_exporter": "python",
   "pygments_lexer": "ipython3",
   "version": "3.8.8"
  },
  "orig_nbformat": 4
 },
 "nbformat": 4,
 "nbformat_minor": 2
}
